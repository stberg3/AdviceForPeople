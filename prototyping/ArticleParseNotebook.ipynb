{
 "cells": [
  {
   "cell_type": "code",
   "execution_count": 1,
   "metadata": {
    "collapsed": true
   },
   "outputs": [],
   "source": [
    "from pymongo import MongoClient\n",
    "from urllib.request import urlopen\n",
    "from bs4 import BeautifulSoup\n",
    "import lxml\n",
    "\n",
    "DB_NAME = \"advice_articles\"\n",
    "COL_NAME = \"dear_prudence\"\n",
    "\n",
    "client = MongoClient()\n",
    "db = client[DB_NAME]\n",
    "col = db[COL_NAME] "
   ]
  },
  {
   "cell_type": "code",
   "execution_count": 2,
   "metadata": {
    "collapsed": true
   },
   "outputs": [],
   "source": [
    "from scrapy.selector import Selector\n",
    "from scrapy.http import HtmlResponse\n",
    "\n",
    "loc = col.find_one()['loc']\n",
    "html = urlopen(loc).read()\n",
    "selector = Selector(text=html)"
   ]
  },
  {
   "cell_type": "code",
   "execution_count": 7,
   "metadata": {},
   "outputs": [
    {
     "name": "stdout",
     "output_type": "stream",
     "text": [
      "{'_id': ObjectId('5995b6374ea378188f1ccfc1'), 'loc': 'http://www.slate.com/articles/life/dear_prudence/2016/03/dear_prudence_should_i_have_a_child_so_it_will_care_for_me_one_day.single.html', 'lastmod': datetime.datetime(2016, 3, 8, 20, 34)}\n"
     ]
    }
   ],
   "source": [
    "print(col.find_one())"
   ]
  },
  {
   "cell_type": "code",
   "execution_count": 3,
   "metadata": {
    "collapsed": true
   },
   "outputs": [],
   "source": [
    "article = selector.xpath(\"//article[@id='story-0']\")"
   ]
  },
  {
   "cell_type": "code",
   "execution_count": 10,
   "metadata": {
    "collapsed": true
   },
   "outputs": [],
   "source": [
    "def parse_article_page(article_selector):\n",
    "    article = article_selector.xpath(\"//article[@id='story-0']\")\n",
    "    all_paragraphs = article.xpath(\"//div[contains(@class, 'parbase')]\")\n",
    "    article_delimiters = []\n",
    "    temp_delimiter = dict()\n",
    "    \n",
    "    \n",
    "    parsed_articles = {\n",
    "        \"title\" : article_selector.xpath(\"//h1[@class='hed']/text()\").extract_first(),\n",
    "        \"subtitle\" : article_selector.xpath(\"//h2[@class='dek']/text()\").extract_first(),\n",
    "        \"author\" : article_selector.xpath(\"//a[@rel='author']/text()\").extract_first(),\n",
    "        \"questions\" : []\n",
    "    }\n",
    "\n",
    "    # Get indices for start/end of questions and end of answers     \n",
    "    for index in range(len(all_paragraphs)):\n",
    "        element = all_paragraphs[index]\n",
    "        title = element.xpath(\".//p/strong/text()\").extract_first()\n",
    "        string = element.xpath(\".//p/text()\").extract_first()\n",
    "\n",
    "        if title and title.startswith(\"Dear Prudence,\"):\n",
    "            temp_delimiter[\"start_index\"] = index\n",
    "        elif string and string.startswith(\"—\"):\n",
    "            temp_delimiter['end_question'] = index\n",
    "        else:\n",
    "            strong = element.xpath(\".//strong/text()\").extract_first()\n",
    "            soft = element.xpath(\".//p/text()\").extract_first()\n",
    "            if \"start_index\" in temp_delimiter.keys() and string == '* * *':\n",
    "                temp_delimiter['end_index'] = index\n",
    "                article_delimiters.append(temp_delimiter)\n",
    "                temp_delimiter = dict()\n",
    "\n",
    "    # Extract the articles based on the indices\n",
    "    for delim_dict in article_delimiters:\n",
    "        parsed_article = dict()\n",
    "\n",
    "        question = \"\"\n",
    "        alias = None\n",
    "        answer = \"\"\n",
    "\n",
    "        q_block = all_paragraphs[delim_dict['start_index']:delim_dict['end_question']]\n",
    "        alias = all_paragraphs[delim_dict['end_question']].xpath(\".//p/text()\").extract_first()[1:]\n",
    "        a_block = all_paragraphs[delim_dict['end_question']+1:delim_dict['end_index']]\n",
    "\n",
    "        for p in q_block:\n",
    "            question += p.xpath(\".//p\").extract_first()\n",
    "\n",
    "        for p in a_block:\n",
    "            answer += p.xpath(\".//p\").extract_first()\n",
    "\n",
    "        parsed_article['question'] = question\n",
    "        parsed_article['alias'] = alias\n",
    "        parsed_article['answer'] = answer\n",
    "\n",
    "        parsed_articles[\"questions\"].append(parsed_article)\n",
    "        \n",
    "    return parsed_articles"
   ]
  },
  {
   "cell_type": "code",
   "execution_count": 11,
   "metadata": {},
   "outputs": [
    {
     "data": {
      "text/plain": [
       "{'author': 'Mallory Ortberg',\n",
       " 'questions': [{'alias': 'Don’t Want to Die Alone',\n",
       "   'answer': '<p><strong>I have a lot of sympathy for anyone </strong>willing to admit they’re terrified of dying alone. But you should not have children. Raising a child for the sole purpose of creating a future nurse is no reason to start a family. Any child of yours would pretty quickly pick up on the fact that you find them exhausting, expensive, and a burden—things that are true of all children, but in your case would not be balanced by parental love. My guess is that child would not then leap at the chance to provide you with round-the-clock care in your declining years.</p><p>You must know on some level that having children does not guarantee anyone a peaceful death. Many people outlive their children. Many people with living, healthy children are still put into nursing homes for a variety of reasons. Having a child now is not insurance that you will be given the kind of death you want. Address your fear about end-of-life care directly by planning ahead. Establish a living will, start a retirement/medical fund that will help pay for private nursing, but don’t bring a child into the world just to alleviate your desire to avoid institutional care. Consider seeing a therapist to confront your (very normal!) concerns about your own mortality and what the end of your life may look like; you owe it to yourself to face these fears head on, rather than try to build a baby escape hatch and run away from them.</p>',\n",
       "   'question': '<p><strong>Dear Prudence, </strong><br>\\nMy husband and I have been married for three years. I am about to turn 30, and we are discussing the possibility of having children, although we are both leaning no. I have never felt a maternal need for kids, though I would love to have a dog. I have friends with children and while I love playing the part of auntie, I am exhausted after spending a day with them. When I think about kids, I mostly think about the negatives: They are expensive, we won’t be able to travel, and I have a family history of mental illness and some other diseases I would hate to pass down. There is one thing that keeps me from saying “no,” and that is that I am afraid of being alone when I am old and can’t fend for myself. I see my grandmother and have no idea what she would do if it weren’t for my mother and her siblings. I recently visited my old nanny in a state-run nursing home and it left me with nightmares. Should we have a child to make sure someone is there to care for us? Should we look into the Hemlock Society? I should add that I am generally not a strong person and have told my husband many times I pray that I die before he does.</p>'},\n",
       "  {'alias': 'Phone Assistance',\n",
       "   'answer': '<p><strong>I thought at first your boyfriend was perhaps re-enacting a scene from the movie </strong><a href=\"http://www.amazon.com/dp/B00IA3NGB4/?tag=slatmaga-20\"><strong><em>Her</em></strong></a>, where Joaquin Phoenix makes it with the computerized voice of Scarlett Johansson. But then I understood: Your boyfriend was not actually talking to his phone’s virtual assistant. There are exactly zero smartphone manufacturers that include a “dirty talk” function. He was having phone sex with a human woman. Sorry!</p>',\n",
       "   'question': '<p><strong>Dear Prudence,</strong><br>\\nI came home at lunch one day last week to surprise my boyfriend, and was shocked to hear him in bed talking to a girl. It turns out it was just the personal assistant on his phone, but some of the stuff they were talking about was just disgusting! I have always given him his space with stuff like this, but now I wonder if I need to draw some lines. With porn, at least I know he only does it in the home. But I could see him doing this at work and I worry he could get in real trouble! I guess I should be glad he hasn’t called me “Siri,” but I wonder if this might be the start of some big problems! Should I put my foot down on this one?</p>'},\n",
       "  {'alias': 'Unsupervised',\n",
       "   'answer': '<p><strong>Your partner is mostly wrong, and you are mostly right, </strong>but that doesn’t necessarily mean you’re going to win this argument. I don’t know if it’s worth having this fight while you’re on a road trip to see family—that’s definitely a varsity-level fight setting—but you can’t always choose where you host your battles. There’s nothing unusual about meeting an ex for afternoon coffee after a few years to catch up on each other’s lives. It’s clear from your letter you’re not harboring a secret affection for him or looking to exclude your partner; but you’re going to talk about your shared past and mutual friends, and there’s no real way for your current partner to be a part of this conversation.</p><p>If it’s not going to turn the rest of your trip into a grudge match, go have coffee with your ex. But if your partner truly can’t understand why you’d like to see your ex one on one without assuming it’s for underhanded reasons, I have a possible compromise. Since this is a road trip and your partner may not have anything else to do in the city, ask your partner to drop you off to meet with the ex for an hour, and then come by for the second hour to have less intimate (but still pleasant) small talk among the three of you. You and your ex get to catch up without having to constantly stop and explain things, and your partner gets to put a face to the Nameless Terror your ex represents.</p><p>(Also worth addressing at some point, if not now: Your partner wants to be an “indivisible” part of your life? That seems like an awfully high bar for togetherness. There’s nothing wrong with the occasional divisibility.)</p>',\n",
       "   'question': '<p><strong>Dear Prudence,</strong><br>\\nMy partner and I are about to travel across the country to visit relatives, and will be passing through a city where an ex-boyfriend of mine lives. This ex and I parted ways about five years ago and haven’t stayed in touch since, but we were friends for a long time, and he was once a very important person in my life. I’d like to get coffee with him while I’m in town and catch up. The issue is that my partner says that if I meet up with my ex, I have to bring my partner with me, so my ex will understand I have someone who is “an indivisible part of my life now.” But I’m not looking to re-establish a friendship with my ex; I just want to get together once, and it would be strange and awkward if I brought my partner with me. Am I crazy to think that it should be permissible for me to meet up with this ex one on one in a public place for a couple of hours? For what it’s worth, my partner is not generally a jealous or controlling person.</p>'},\n",
       "  {'alias': 'Open-Wallet Marriage',\n",
       "   'answer': '<p><strong>This guy’s been happily pocketing your tax return for 15 years </strong>and now that the IRS needs payment, he’s suddenly interested in presenting a united financial front? I don’t care how married to him you are, that’s a bush-league move. (I’m not sure why you’ve been letting him get away with this for so long, but that’s a question for another day.) If he can afford it, explain your position and ask him to pay the bill. And stop letting him get away with lining his pockets every April. You’re his wife, not his employee. It’s one thing if you two decide to share tax refunds jointly; it’s quite another for him to take money you’ve earned and keep it for himself.</p>',\n",
       "   'question': '<p><strong>Dear Prudence,</strong><br>\\nMy husband is self-employed. I work outside the home and supply our health insurance. For the past 15 years, whenever we file taxes he has the refund transferred to his personal account. The refund is money that my job has provided. This year we owe several thousand dollars. He wants me to pay half. I think he needs to cover it all after years of keeping refunds that he contributed nothing to. What do you think?</p>'},\n",
       "  {'alias': 'Porn Health?',\n",
       "   'answer': '<p><strong>I’m not going to make a blanket statement that all pornography is OK or damaging</strong>; like anything, it can be created and consumed and shared in a variety of ways, some healthy, others un-. Casual hookup sites aren’t pornography. Cheating isn’t pornography. In this case, pornography is a red herring—your problem has very little to do with porn and a great deal to do with the level of trust and fidelity in your relationship. I don’t know if you should stay with your boyfriend or not, but I do know that pornography hasn’t caused any of your problems, and it won’t solve any of them, either.</p>',\n",
       "   'question': '<p><strong>Dear Prudence,</strong><br>\\nI am in a committed relationship with a partner who I know watches pornography about once a week. We’ve watched it together a handful of times, but not consistently, and we don’t need it to have a great sex life. Recently I found out that he had visited sites for casual hookups in our area. When I confronted him, he apologized, said he’d been “curious,” and swore he didn’t hook up with anyone, but I am really struggling in dealing with what feels like a betrayal. He has cheated in the past. I found this out because he let me use his computer and he had emails from hookup sites for additional special offers. He has a history of avoiding confrontation and he feels pornography is not acceptable in society. He is in individual counseling to address this and other issues, and we are in couples counseling. Both of our counselors feel pornography is damaging—but would it help our situation? Because of your past responses that pornography is OK, I’m interested to know your thoughts on when porn is a good thing to share in a long-term committed partnership.</p>'},\n",
       "  {'alias': 'Don’t Want to Raise a Peeping Tom',\n",
       "   'answer': '<p><strong>Pull down your own shades</strong>, if she doesn’t pull down hers and you’re afraid to ask.<strong> </strong>Surely you have other windows that don’t look into her bedroom; enjoy those.</p>',\n",
       "   'question': '<p><strong>Dear Prudence, </strong><br>\\nI’m a single dad with a 13-year-old son. Our next-door neighbor doesn’t close the blinds on her bedroom window, which is about 30 feet from our house. I’m pretty certain my son has noticed that she can be seen dressing from his bedroom window. I’m on a friendly basis with the woman but feel weird about asking her to pull down the shades. Equally weird would be a conversation with my son about respecting her privacy by not availing himself of the view. Suggestions?</p>'},\n",
       "  {'alias': 'No-Pot Pregnancy?',\n",
       "   'answer': '<p><strong>I would like to encourage you to speak with your doctor about this</strong>, but there are several states where expectant mothers <a href=\"http://www.al.com/news/index.ssf/2015/09/when_the_womb_is_a_crime_scene.html\">can</a> and <a href=\"http://www.timesdaily.com/archives/mother-arrested-after-baby-tests-positive-for-marijuana/article_d9523ce9-72f3-50be-a72c-0817529cc415.html\">have been</a> arrested, even had their other children taken away from them, for using marijuana during pregnancy. This is very tricky legal and medical territory, one that could possibly result in CPS investigating your family.</p><p>I’m very glad that you turned out well, but surely you’re aware that a single anecdote does not mean all women who smoke pot during pregnancy experience zero negative results. There are no studies yet to establish that smoking or ingesting marijuana during pregnancy can result in damage to the child similar to Fetal Alcohol Syndrome, but neither has it been established as harmless. I don’t think there’s anything wrong with parents smoking weed responsibly, but I can’t encourage you to do so while pregnant. If insomnia and anxiety are big issues for you, I’d suggest asking your doctor (without mentioning marijuana) what alternative treatments are available and safe for you to use during pregnancy.</p>',\n",
       "   'question': '<p><strong>Dear Prudence, </strong><br>\\nWhen my mother was pregnant with me, she smoked a lot of pot. I came out fine. No health issues or birth defects. In fact, I graduated with honors as an undergraduate in college and was valedictorian of my master’s program. I am currently the head of my department, am in a committed marriage, and now I’m 31 and want to start a family.</p><p>The issue? I smoke pot, too. It helps me when I feel anxious, and it helps me sleep. My husband wants me to stop entirely before we have a family, but I’d prefer to enjoy it from time to time ... especially since I am not even pregnant yet. Maybe I’ll feel differently once I get pregnant, but considering my mother’s experience and how well I’ve turned out, I don’t see the big deal. Any insight?</p>'},\n",
       "  {'alias': 'Bad Messenger',\n",
       "   'answer': '<p><strong>No. </strong>I’m so sorry that Bob put you in this position, but you are under no obligation to send a message of spite and invective to a stranger on his behalf. You are doing your best to honor those of his wishes that do not violate your own moral code, and that is all anyone can do. Do not feel in any way that you are letting him down by refusing to carry on his resentments for him.</p>',\n",
       "   'question': '<p><strong>Dear Prudence,</strong><br>\\nMy friend, “Bob,” recently killed himself after a long depression. Before he died, he sent me a message saying goodbye and letting me know what a good friend I was. He also shared three final wishes, saying he could be at peace knowing he shared them with someone he trusted to carry them out. Two of his wishes I can likely manage, but the third gives me pause: He asked that I deliver a final message to a former friend of his—a person I don’t know, but whom Bob felt betrayed him when he most needed support. I’m supposed to deliver this message from Bob: “You are dead to me. F--k off.” I want to honor Bob’s wishes, but this seems like an action that will only cause more pain in an already devastating situation. Am I obligated to carry out all of Bob’s wishes?</p>'}],\n",
       " 'subtitle': 'I don’t want children. But should I have one so I will be cared for in old age?',\n",
       " 'title': 'Baby Me'}"
      ]
     },
     "execution_count": 11,
     "metadata": {},
     "output_type": "execute_result"
    }
   ],
   "source": [
    "parse_article_page(article)"
   ]
  }
 ],
 "metadata": {
  "kernelspec": {
   "display_name": "Python 3",
   "language": "python",
   "name": "python3"
  },
  "language_info": {
   "codemirror_mode": {
    "name": "ipython",
    "version": 3
   },
   "file_extension": ".py",
   "mimetype": "text/x-python",
   "name": "python",
   "nbconvert_exporter": "python",
   "pygments_lexer": "ipython3",
   "version": "3.6.1"
  }
 },
 "nbformat": 4,
 "nbformat_minor": 2
}
